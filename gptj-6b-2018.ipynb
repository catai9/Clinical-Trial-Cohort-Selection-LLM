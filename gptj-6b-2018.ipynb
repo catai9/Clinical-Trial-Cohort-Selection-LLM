{
 "cells": [
  {
   "cell_type": "code",
   "execution_count": 1,
   "id": "a6a7f270-a220-443e-b77f-e9a0c5535703",
   "metadata": {},
   "outputs": [
    {
     "name": "stderr",
     "output_type": "stream",
     "text": [
      "/home/tai/anaconda3/envs/fastchat/lib/python3.11/site-packages/tqdm/auto.py:21: TqdmWarning: IProgress not found. Please update jupyter and ipywidgets. See https://ipywidgets.readthedocs.io/en/stable/user_install.html\n",
      "  from .autonotebook import tqdm as notebook_tqdm\n"
     ]
    }
   ],
   "source": [
    "from datetime import datetime\n",
    "import time \n",
    "import gc\n",
    "\n",
    "from llm_utils import LLMModel "
   ]
  },
  {
   "cell_type": "markdown",
   "id": "020bd582-d226-4e0f-91ef-bf24fc35531b",
   "metadata": {},
   "source": [
    "# Run n2c2 2018 Models on Best Vicuna-13B Examples"
   ]
  },
  {
   "cell_type": "markdown",
   "id": "0423ba54-1774-4ab2-8515-f98ccb0b2927",
   "metadata": {},
   "source": [
    "#### STARTING SETUP"
   ]
  },
  {
   "cell_type": "code",
   "execution_count": 2,
   "id": "07993aac-613b-42c6-b44a-7242c8bebc33",
   "metadata": {
    "tags": []
   },
   "outputs": [],
   "source": [
    "date_str = datetime.today().strftime('%Y-%m-%d')\n",
    "log_file_name = f'server1-{date_str}-n2c2-tasks-2018-llm-model-runs.txt'\n",
    "example_names = ['vicuna_13b_fine_tuned']\n",
    "start = time.time()"
   ]
  },
  {
   "cell_type": "markdown",
   "id": "f73f1823-42ef-486a-8bd8-eacf9a47de89",
   "metadata": {},
   "source": [
    "#### GPTJ6B"
   ]
  },
  {
   "cell_type": "code",
   "execution_count": 3,
   "id": "3bba8b58-efda-4ccb-8254-0ac82ae9d4bb",
   "metadata": {
    "tags": []
   },
   "outputs": [],
   "source": [
    "model_start = time.time()\n",
    "\n",
    "with open(log_file_name, 'a') as f:\n",
    "    f.write(f'Running gptj6B model on n2c2_2018 data... \\n')"
   ]
  },
  {
   "cell_type": "code",
   "execution_count": 4,
   "id": "36c02b63-c3dc-4cc8-b31f-3d2a6ccff575",
   "metadata": {
    "tags": []
   },
   "outputs": [
    {
     "name": "stderr",
     "output_type": "stream",
     "text": [
      "2024-01-21 23:40:26,328 - n2c2 - INFO - Parameters: \n",
      "{ABDOMINAL: {few_shot: true, reset_every_sentence: false, resources: {abdominal_list_file: resources/abdominal-surgery-list.txt}},\n",
      "  ADVANCED-CAD: {few_shot: false}, ALCOHOL-ABUSE: {few_shot: true, reset_every_sentence: false,\n",
      "    resources: {alcohol_file: resources/alcohol-list.txt}}, ASP-FOR-MI: {few_shot: true,\n",
      "    reset_every_sentence: false, resources: {aspirin_file: resources/aspirin-list.txt}},\n",
      "  CREATININE: {few_shot: true}, DIETSUPP-2MOS: {few_shot: true, reset_every_sentence: true,\n",
      "    resources: {DLSD_file: resources/dietsupp-list.txt}}, DRUG-ABUSE: {few_shot: true,\n",
      "    reset_every_sentence: false}, ENGLISH: {few_shot: true, reset_every_sentence: true},\n",
      "  HBA1C: {few_shot: true}, MAJOR-DIABETES: {few_shot: false}, MAKES-DECISIONS: {few_shot: true},\n",
      "  MI-6MOS: {few_shot: true}, device: {device: cuda, load_8bit: true, num_gpus: 1},\n",
      "  general: {resources: {section_titles: resources/n2c2_sections_subpart.txt}, test: {\n",
      "      dir: data/n2c2_2018_data/release/n2c2-t1_gold_standard_test_data/test}, train: {\n",
      "      dir: data/n2c2_2018_data/release/train, files: [272.xml, 392.xml, 258.xml, 132.xml,\n",
      "        127.xml, 170.xml, 331.xml, 247.xml, 389.xml, 393.xml, 280.xml, 378.xml, 204.xml,\n",
      "        186.xml, 142.xml, 330.xml, 177.xml, 168.xml, 160.xml, 169.xml, 163.xml, 113.xml,\n",
      "        124.xml, 358.xml, 273.xml, 381.xml, 206.xml, 363.xml, 176.xml, 316.xml, 100.xml,\n",
      "        338.xml, 292.xml, 318.xml, 250.xml, 154.xml, 181.xml, 241.xml, 126.xml, 388.xml,\n",
      "        382.xml, 242.xml, 264.xml, 185.xml, 161.xml, 203.xml, 222.xml, 283.xml, 332.xml,\n",
      "        288.xml, 105.xml, 357.xml, 365.xml, 337.xml, 271.xml, 107.xml, 397.xml, 354.xml,\n",
      "        187.xml, 315.xml, 209.xml, 109.xml, 244.xml, 253.xml, 183.xml, 104.xml, 367.xml,\n",
      "        355.xml, 221.xml, 174.xml, 284.xml, 307.xml, 195.xml, 377.xml, 334.xml, 191.xml,\n",
      "        147.xml, 319.xml, 117.xml, 371.xml, 299.xml, 102.xml, 138.xml, 225.xml, 215.xml,\n",
      "        235.xml, 110.xml, 252.xml, 349.xml, 136.xml, 106.xml, 339.xml, 238.xml, 325.xml,\n",
      "        112.xml, 210.xml, 341.xml, 243.xml, 286.xml, 121.xml, 356.xml, 300.xml, 237.xml,\n",
      "        207.xml, 228.xml, 335.xml, 255.xml, 179.xml, 306.xml, 226.xml, 223.xml, 202.xml,\n",
      "        278.xml, 364.xml, 297.xml, 101.xml, 148.xml, 260.xml, 262.xml, 248.xml, 129.xml,\n",
      "        189.xml]}, val: {dir: data/n2c2_2018_data/release/train, files: [162.xml,\n",
      "        180.xml, 116.xml, 324.xml, 313.xml, 340.xml, 128.xml, 172.xml, 398.xml, 387.xml,\n",
      "        263.xml, 114.xml, 304.xml, 134.xml, 152.xml, 329.xml, 234.xml, 345.xml, 281.xml,\n",
      "        123.xml, 159.xml, 257.xml, 144.xml, 290.xml, 139.xml, 326.xml, 308.xml, 111.xml,\n",
      "        391.xml, 333.xml, 208.xml, 164.xml, 311.xml, 310.xml, 366.xml, 301.xml, 125.xml,\n",
      "        259.xml, 267.xml, 219.xml, 279.xml, 302.xml, 298.xml, 385.xml, 375.xml, 214.xml,\n",
      "        122.xml, 380.xml, 231.xml, 220.xml, 256.xml, 372.xml, 287.xml, 376.xml, 151.xml,\n",
      "        146.xml, 184.xml, 212.xml, 145.xml, 149.xml, 344.xml, 200.xml, 291.xml, 211.xml,\n",
      "        268.xml, 175.xml, 188.xml, 130.xml, 289.xml, 303.xml, 157.xml, 254.xml, 150.xml,\n",
      "        249.xml, 312.xml, 362.xml, 395.xml, 230.xml, 103.xml, 295.xml]}}, generation: {\n",
      "    echo: false, judge_sent_end: false, max_new_tokens: 256, model_path: EleutherAI/gpt-j-6b,\n",
      "    repetition_penalty: 1.0, temperature: 0}, logger: !!python/object/apply:logging.getLogger [\n",
      "    n2c2], main: {task_dirs: [few_shot_n2c2_2018_tasks]}, retrieval: {EMD: {distance_type: cosine,\n",
      "      embedding_type: fasttext}, OVERLAP: {distance_type: cosine, embedding_type: fasttext},\n",
      "    lowercase: true, method: OVERLAP, use_cuda: false}}\n",
      "\n",
      "2024-01-21 23:40:26,328 - n2c2 - INFO - available devices: 1\n",
      "2024-01-21 23:40:26,329 - n2c2 - INFO - current device: 0\n",
      "2024-01-21 23:40:26,645 - n2c2 - INFO - Load fastchat model EleutherAI/gpt-j-6b\n",
      "Special tokens have been added in the vocabulary, make sure the associated word embeddings are fine-tuned or trained.\n",
      "100%|██████████| 1/1 [03:36<00:00, 216.90s/it]\n"
     ]
    },
    {
     "name": "stdout",
     "output_type": "stream",
     "text": [
      "GPTJForCausalLM(\n",
      "  (transformer): GPTJModel(\n",
      "    (wte): Embedding(50400, 4096)\n",
      "    (drop): Dropout(p=0.0, inplace=False)\n",
      "    (h): ModuleList(\n",
      "      (0-27): 28 x GPTJBlock(\n",
      "        (ln_1): LayerNorm((4096,), eps=1e-05, elementwise_affine=True)\n",
      "        (attn): GPTJAttention(\n",
      "          (attn_dropout): Dropout(p=0.0, inplace=False)\n",
      "          (resid_dropout): Dropout(p=0.0, inplace=False)\n",
      "          (k_proj): CLinear()\n",
      "          (v_proj): CLinear()\n",
      "          (q_proj): CLinear()\n",
      "          (out_proj): CLinear()\n",
      "        )\n",
      "        (mlp): GPTJMLP(\n",
      "          (fc_in): CLinear()\n",
      "          (fc_out): CLinear()\n",
      "          (act): NewGELUActivation()\n",
      "          (dropout): Dropout(p=0.0, inplace=False)\n",
      "        )\n",
      "      )\n",
      "    )\n",
      "    (ln_f): LayerNorm((4096,), eps=1e-05, elementwise_affine=True)\n",
      "  )\n",
      "  (lm_head): CLinear()\n",
      ")\n"
     ]
    },
    {
     "name": "stderr",
     "output_type": "stream",
     "text": [
      "2024-01-21 23:44:08,012 - n2c2 - INFO - Load retriever\n"
     ]
    }
   ],
   "source": [
    "gptj6b_model = LLMModel(\n",
    "    config_file='./model-configs/gptj6b_n2c2_2018.yml', \n",
    "    title_prefix='8-n2c2_2018-few-shot-gpt-j-6b', \n",
    "    task_names=['ADVANCED-CAD', 'ALCOHOL-ABUSE', 'ASP-FOR-MI', 'CREATININE', 'DIETSUPP-2MOS', 'DRUG-ABUSE', 'ENGLISH', 'HBA1C', 'MAJOR-DIABETES', 'MAKES-DECISIONS', 'MI-6MOS', 'ABDOMINAL'])\n",
    "\n",
    "gptj6b_model.setupModelForPredictions()\n"
   ]
  },
  {
   "cell_type": "code",
   "execution_count": null,
   "id": "b80e0a11-0bb0-48dc-a157-441380a96413",
   "metadata": {
    "tags": []
   },
   "outputs": [
    {
     "name": "stderr",
     "output_type": "stream",
     "text": [
      "2024-01-21 23:44:27,896 - n2c2 - INFO - Load data\n",
      "2024-01-21 23:44:28,654 - n2c2 - INFO - Load data\n",
      "2024-01-21 23:44:28,933 - n2c2 - INFO - Load data\n",
      "  0%|          | 0/122 [00:00<?, ?it/s]/home/tai/n2c2_test/llm_utils.py:211: FutureWarning: Setting an item of incompatible dtype is deprecated and will raise in a future error of pandas. Value 'met' has dtype incompatible with float64, please explicitly cast to a compatible dtype first.\n",
      "  prediction_df.loc[prediction_df['id'] == text_id, task_name] = pred_answer\n",
      "100%|██████████| 122/122 [11:30<00:00,  5.66s/it]\n"
     ]
    },
    {
     "name": "stdout",
     "output_type": "stream",
     "text": [
      "---------ADVANCED-CAD, vicuna_13b_fine_tuned----------- f1_score=0.7676767676767676 -------------------------\n",
      "Elapsed Time for: 690.3800737857819\n"
     ]
    },
    {
     "name": "stderr",
     "output_type": "stream",
     "text": [
      "  0%|          | 0/122 [00:00<?, ?it/s]/home/tai/n2c2_test/llm_utils.py:211: FutureWarning: Setting an item of incompatible dtype is deprecated and will raise in a future error of pandas. Value 'not met' has dtype incompatible with float64, please explicitly cast to a compatible dtype first.\n",
      "  prediction_df.loc[prediction_df['id'] == text_id, task_name] = pred_answer\n",
      "  2%|▏         | 2/122 [00:16<16:49,  8.42s/it]Token indices sequence length is longer than the specified maximum sequence length for this model (2056 > 2048). Running this sequence through the model will result in indexing errors\n",
      "100%|██████████| 122/122 [16:29<00:00,  8.11s/it]\n"
     ]
    },
    {
     "name": "stdout",
     "output_type": "stream",
     "text": [
      "---------ALCOHOL-ABUSE, vicuna_13b_fine_tuned----------- f1_score=0 -------------------------\n",
      "Elapsed Time for: 1680.2312920093536\n"
     ]
    },
    {
     "name": "stderr",
     "output_type": "stream",
     "text": [
      "  0%|          | 0/122 [00:00<?, ?it/s]/home/tai/n2c2_test/llm_utils.py:211: FutureWarning: Setting an item of incompatible dtype is deprecated and will raise in a future error of pandas. Value 'met' has dtype incompatible with float64, please explicitly cast to a compatible dtype first.\n",
      "  prediction_df.loc[prediction_df['id'] == text_id, task_name] = pred_answer\n",
      "100%|██████████| 122/122 [24:33<00:00, 12.08s/it]\n"
     ]
    },
    {
     "name": "stdout",
     "output_type": "stream",
     "text": [
      "---------ASP-FOR-MI, vicuna_13b_fine_tuned----------- f1_score=0.8704663212435233 -------------------------\n",
      "Elapsed Time for: 3154.1832971572876\n"
     ]
    },
    {
     "name": "stderr",
     "output_type": "stream",
     "text": [
      "  0%|          | 0/122 [00:00<?, ?it/s]/home/tai/n2c2_test/llm_utils.py:211: FutureWarning: Setting an item of incompatible dtype is deprecated and will raise in a future error of pandas. Value 'not met' has dtype incompatible with float64, please explicitly cast to a compatible dtype first.\n",
      "  prediction_df.loc[prediction_df['id'] == text_id, task_name] = pred_answer\n",
      "100%|██████████| 122/122 [05:24<00:00,  2.66s/it]\n"
     ]
    },
    {
     "name": "stdout",
     "output_type": "stream",
     "text": [
      "---------CREATININE, vicuna_13b_fine_tuned----------- f1_score=0.5811965811965812 -------------------------\n",
      "Elapsed Time for: 3478.584071159363\n"
     ]
    },
    {
     "name": "stderr",
     "output_type": "stream",
     "text": [
      "  0%|          | 0/122 [00:00<?, ?it/s]/home/tai/n2c2_test/llm_utils.py:211: FutureWarning: Setting an item of incompatible dtype is deprecated and will raise in a future error of pandas. Value 'met' has dtype incompatible with float64, please explicitly cast to a compatible dtype first.\n",
      "  prediction_df.loc[prediction_df['id'] == text_id, task_name] = pred_answer\n",
      "100%|██████████| 122/122 [33:53<00:00, 16.67s/it]\n"
     ]
    },
    {
     "name": "stdout",
     "output_type": "stream",
     "text": [
      "---------DIETSUPP-2MOS, vicuna_13b_fine_tuned----------- f1_score=0.6625766871165644 -------------------------\n",
      "Elapsed Time for: 5512.04461479187\n"
     ]
    },
    {
     "name": "stderr",
     "output_type": "stream",
     "text": [
      "  0%|          | 0/122 [00:00<?, ?it/s]/home/tai/n2c2_test/llm_utils.py:211: FutureWarning: Setting an item of incompatible dtype is deprecated and will raise in a future error of pandas. Value 'not met' has dtype incompatible with float64, please explicitly cast to a compatible dtype first.\n",
      "  prediction_df.loc[prediction_df['id'] == text_id, task_name] = pred_answer\n",
      "100%|██████████| 122/122 [13:26<00:00,  6.61s/it]\n"
     ]
    },
    {
     "name": "stdout",
     "output_type": "stream",
     "text": [
      "---------DRUG-ABUSE, vicuna_13b_fine_tuned----------- f1_score=0.15053763440860213 -------------------------\n",
      "Elapsed Time for: 6318.303988456726\n"
     ]
    },
    {
     "name": "stderr",
     "output_type": "stream",
     "text": [
      "  0%|          | 0/122 [00:00<?, ?it/s]/home/tai/n2c2_test/llm_utils.py:211: FutureWarning: Setting an item of incompatible dtype is deprecated and will raise in a future error of pandas. Value 'not met' has dtype incompatible with float64, please explicitly cast to a compatible dtype first.\n",
      "  prediction_df.loc[prediction_df['id'] == text_id, task_name] = pred_answer\n",
      "100%|██████████| 122/122 [15:52<00:00,  7.81s/it]\n"
     ]
    },
    {
     "name": "stdout",
     "output_type": "stream",
     "text": [
      "---------ENGLISH, vicuna_13b_fine_tuned----------- f1_score=0.07142857142857144 -------------------------\n",
      "Elapsed Time for: 7271.101225852966\n"
     ]
    },
    {
     "name": "stderr",
     "output_type": "stream",
     "text": [
      "  0%|          | 0/122 [00:00<?, ?it/s]/home/tai/n2c2_test/llm_utils.py:211: FutureWarning: Setting an item of incompatible dtype is deprecated and will raise in a future error of pandas. Value 'met' has dtype incompatible with float64, please explicitly cast to a compatible dtype first.\n",
      "  prediction_df.loc[prediction_df['id'] == text_id, task_name] = pred_answer\n",
      "100%|██████████| 122/122 [06:55<00:00,  3.41s/it]\n"
     ]
    },
    {
     "name": "stdout",
     "output_type": "stream",
     "text": [
      "---------HBA1C, vicuna_13b_fine_tuned----------- f1_score=0.7870967741935484 -------------------------\n",
      "Elapsed Time for: 7686.735876560211\n"
     ]
    },
    {
     "name": "stderr",
     "output_type": "stream",
     "text": [
      "  0%|          | 0/122 [00:00<?, ?it/s]/home/tai/n2c2_test/llm_utils.py:211: FutureWarning: Setting an item of incompatible dtype is deprecated and will raise in a future error of pandas. Value 'not met' has dtype incompatible with float64, please explicitly cast to a compatible dtype first.\n",
      "  prediction_df.loc[prediction_df['id'] == text_id, task_name] = pred_answer\n",
      "100%|██████████| 122/122 [24:11<00:00, 11.90s/it]\n"
     ]
    },
    {
     "name": "stdout",
     "output_type": "stream",
     "text": [
      "---------MAJOR-DIABETES, vicuna_13b_fine_tuned----------- f1_score=0 -------------------------\n",
      "Elapsed Time for: 9138.266889333725\n"
     ]
    },
    {
     "name": "stderr",
     "output_type": "stream",
     "text": [
      "  0%|          | 0/122 [00:00<?, ?it/s]/home/tai/n2c2_test/llm_utils.py:211: FutureWarning: Setting an item of incompatible dtype is deprecated and will raise in a future error of pandas. Value 'not met' has dtype incompatible with float64, please explicitly cast to a compatible dtype first.\n",
      "  prediction_df.loc[prediction_df['id'] == text_id, task_name] = pred_answer\n",
      "100%|██████████| 122/122 [15:59<00:00,  7.86s/it]\n"
     ]
    },
    {
     "name": "stdout",
     "output_type": "stream",
     "text": [
      "---------MAKES-DECISIONS, vicuna_13b_fine_tuned----------- f1_score=0.047619047619047616 -------------------------\n",
      "Elapsed Time for: 10097.639139652252\n"
     ]
    },
    {
     "name": "stderr",
     "output_type": "stream",
     "text": [
      "  0%|          | 0/122 [00:00<?, ?it/s]/home/tai/n2c2_test/llm_utils.py:211: FutureWarning: Setting an item of incompatible dtype is deprecated and will raise in a future error of pandas. Value 'met' has dtype incompatible with float64, please explicitly cast to a compatible dtype first.\n",
      "  prediction_df.loc[prediction_df['id'] == text_id, task_name] = pred_answer\n",
      "100%|██████████| 122/122 [09:59<00:00,  4.91s/it]\n"
     ]
    },
    {
     "name": "stdout",
     "output_type": "stream",
     "text": [
      "---------MI-6MOS, vicuna_13b_fine_tuned----------- f1_score=0.1791044776119403 -------------------------\n",
      "Elapsed Time for: 10697.236050367355\n"
     ]
    },
    {
     "name": "stderr",
     "output_type": "stream",
     "text": [
      "  0%|          | 0/122 [00:00<?, ?it/s]/home/tai/n2c2_test/llm_utils.py:211: FutureWarning: Setting an item of incompatible dtype is deprecated and will raise in a future error of pandas. Value 'not met' has dtype incompatible with float64, please explicitly cast to a compatible dtype first.\n",
      "  prediction_df.loc[prediction_df['id'] == text_id, task_name] = pred_answer\n",
      "100%|██████████| 122/122 [17:43<00:00,  8.72s/it]\n"
     ]
    },
    {
     "name": "stdout",
     "output_type": "stream",
     "text": [
      "---------ABDOMINAL, vicuna_13b_fine_tuned----------- f1_score=0.5384615384615384 -------------------------\n",
      "Elapsed Time for: 11760.604764699936\n"
     ]
    },
    {
     "name": "stderr",
     "output_type": "stream",
     "text": [
      "  0%|          | 0/80 [00:00<?, ?it/s]/home/tai/n2c2_test/llm_utils.py:211: FutureWarning: Setting an item of incompatible dtype is deprecated and will raise in a future error of pandas. Value 'met' has dtype incompatible with float64, please explicitly cast to a compatible dtype first.\n",
      "  prediction_df.loc[prediction_df['id'] == text_id, task_name] = pred_answer\n",
      "100%|██████████| 80/80 [06:41<00:00,  5.01s/it]\n"
     ]
    },
    {
     "name": "stdout",
     "output_type": "stream",
     "text": [
      "---------ADVANCED-CAD, vicuna_13b_fine_tuned----------- f1_score=0.7499999999999999 -------------------------\n",
      "Elapsed Time for: 401.103178024292\n"
     ]
    },
    {
     "name": "stderr",
     "output_type": "stream",
     "text": [
      "  0%|          | 0/80 [00:00<?, ?it/s]/home/tai/n2c2_test/llm_utils.py:211: FutureWarning: Setting an item of incompatible dtype is deprecated and will raise in a future error of pandas. Value 'not met' has dtype incompatible with float64, please explicitly cast to a compatible dtype first.\n",
      "  prediction_df.loc[prediction_df['id'] == text_id, task_name] = pred_answer\n",
      "100%|██████████| 80/80 [10:33<00:00,  7.92s/it]\n"
     ]
    },
    {
     "name": "stdout",
     "output_type": "stream",
     "text": [
      "---------ALCOHOL-ABUSE, vicuna_13b_fine_tuned----------- f1_score=0 -------------------------\n",
      "Elapsed Time for: 1034.6836943626404\n"
     ]
    },
    {
     "name": "stderr",
     "output_type": "stream",
     "text": [
      "  0%|          | 0/80 [00:00<?, ?it/s]/home/tai/n2c2_test/llm_utils.py:211: FutureWarning: Setting an item of incompatible dtype is deprecated and will raise in a future error of pandas. Value 'met' has dtype incompatible with float64, please explicitly cast to a compatible dtype first.\n",
      "  prediction_df.loc[prediction_df['id'] == text_id, task_name] = pred_answer\n",
      "100%|██████████| 80/80 [15:54<00:00, 11.93s/it]\n"
     ]
    },
    {
     "name": "stdout",
     "output_type": "stream",
     "text": [
      "---------ASP-FOR-MI, vicuna_13b_fine_tuned----------- f1_score=0.9022556390977443 -------------------------\n",
      "Elapsed Time for: 1988.7557034492493\n"
     ]
    },
    {
     "name": "stderr",
     "output_type": "stream",
     "text": [
      "  0%|          | 0/80 [00:00<?, ?it/s]/home/tai/n2c2_test/llm_utils.py:211: FutureWarning: Setting an item of incompatible dtype is deprecated and will raise in a future error of pandas. Value 'met' has dtype incompatible with float64, please explicitly cast to a compatible dtype first.\n",
      "  prediction_df.loc[prediction_df['id'] == text_id, task_name] = pred_answer\n",
      "100%|██████████| 80/80 [03:43<00:00,  2.80s/it]\n"
     ]
    },
    {
     "name": "stdout",
     "output_type": "stream",
     "text": [
      "---------CREATININE, vicuna_13b_fine_tuned----------- f1_score=0.5822784810126581 -------------------------\n",
      "Elapsed Time for: 2212.7021055221558\n"
     ]
    },
    {
     "name": "stderr",
     "output_type": "stream",
     "text": [
      "  0%|          | 0/80 [00:00<?, ?it/s]/home/tai/n2c2_test/llm_utils.py:211: FutureWarning: Setting an item of incompatible dtype is deprecated and will raise in a future error of pandas. Value 'not met' has dtype incompatible with float64, please explicitly cast to a compatible dtype first.\n",
      "  prediction_df.loc[prediction_df['id'] == text_id, task_name] = pred_answer\n",
      " 96%|█████████▋| 77/80 [21:09<00:46, 15.48s/it]"
     ]
    }
   ],
   "source": [
    "temp_start = time.time()\n",
    "elapsed_time = temp_start - model_start\n",
    "\n",
    "with open(log_file_name, 'a') as f:\n",
    "    f.write(f'Finished setting up gptj6B model: {elapsed_time}\\n')\n",
    "\n",
    "for example_name in example_names:\n",
    "    temp_end = time.time()\n",
    "    elapsed_time = temp_end - temp_start\n",
    "\n",
    "    gptj6b_model.run2018ModelPredictions(example_name)\n",
    "\n",
    "    with open(log_file_name, 'a') as f:\n",
    "        f.write(f'Finished running {example_name} for gptj6B model: {elapsed_time}\\n')\n",
    "    \n",
    "    temp_start = time.time()\n",
    "        \n",
    "\n",
    "model_end = time.time()\n",
    "elapsed_time = model_end - model_start\n",
    "\n",
    "with open(log_file_name, 'a') as f:\n",
    "    f.write(f'Finished running gptj6B model on n2c2_2018 data: {elapsed_time}\\n')\n",
    "\n",
    "del gptj6b_model\n",
    "gc.collect()"
   ]
  },
  {
   "cell_type": "markdown",
   "id": "f10c7871-4d82-4506-9609-df18745ee1b6",
   "metadata": {},
   "source": [
    "#### ENDING CLEANUP"
   ]
  },
  {
   "cell_type": "code",
   "execution_count": null,
   "id": "330ad290-00bc-4590-8d1b-ff94d8715cd4",
   "metadata": {
    "tags": []
   },
   "outputs": [],
   "source": [
    "end = time.time()\n",
    "elapsed_time = end - start\n",
    "\n",
    "with open(log_file_name, 'a') as f:\n",
    "    f.write(f'Finished running models on server 1 on n2c2_2018 data: {elapsed_time}')\n"
   ]
  },
  {
   "cell_type": "code",
   "execution_count": null,
   "id": "3a1ae872-3625-4343-9718-3bf17b06bf46",
   "metadata": {},
   "outputs": [],
   "source": []
  }
 ],
 "metadata": {
  "kernelspec": {
   "display_name": "fastchat",
   "language": "python",
   "name": "fastchat"
  },
  "language_info": {
   "codemirror_mode": {
    "name": "ipython",
    "version": 3
   },
   "file_extension": ".py",
   "mimetype": "text/x-python",
   "name": "python",
   "nbconvert_exporter": "python",
   "pygments_lexer": "ipython3",
   "version": "3.11.5"
  }
 },
 "nbformat": 4,
 "nbformat_minor": 5
}
